{
 "cells": [
  {
   "cell_type": "markdown",
   "id": "f17900c8",
   "metadata": {},
   "source": [
    "## Importing"
   ]
  },
  {
   "cell_type": "code",
   "execution_count": 14,
   "id": "22d5d568",
   "metadata": {},
   "outputs": [],
   "source": [
    "from random import randint\n",
    "import matplotlib.pyplot as plt\n",
    "from plotly.graph_objs import Bar, Layout\n",
    "from plotly import offline\n"
   ]
  },
  {
   "cell_type": "markdown",
   "id": "fa1a6d3d",
   "metadata": {},
   "source": [
    "## Creating dice rolls"
   ]
  },
  {
   "cell_type": "code",
   "execution_count": 102,
   "id": "6bb95657",
   "metadata": {},
   "outputs": [],
   "source": [
    "class die:\n",
    "    def __init__(self, num_sides = 6, num_roll = 100):\n",
    "        self.num_sides = num_sides\n",
    "#         self.num_die = num_die\n",
    "        self.num_roll = num_roll\n",
    "        \n",
    "    def roll_once(self):\n",
    "        return randint(1, self.num_sides)\n",
    "    \n",
    "    def roll(self):\n",
    "        # rolling the die\n",
    "        results = []\n",
    "        for roll in range(self.num_roll):\n",
    "            results.append(self.roll_once())\n",
    "        \n",
    "        return results\n",
    "        "
   ]
  },
  {
   "cell_type": "code",
   "execution_count": 121,
   "id": "a25d95ac",
   "metadata": {},
   "outputs": [],
   "source": [
    "die_1 = die(6)\n",
    "results = die_1.roll()\n",
    "\n",
    "# getting frequency\n",
    "frequency = []\n",
    "for value in range(1, die_1.num_sides + 1):\n",
    "    frequency.append(results.count(value))\n"
   ]
  },
  {
   "cell_type": "markdown",
   "id": "649fd083",
   "metadata": {},
   "source": [
    "## Visualizing using plotly"
   ]
  },
  {
   "cell_type": "code",
   "execution_count": 122,
   "id": "f65699ef",
   "metadata": {},
   "outputs": [],
   "source": [
    "x_values = list(range(1, die_1.num_sides+1))\n",
    "# creating a list of bar\n",
    "data = [Bar(x= x_values, y = frequency)]"
   ]
  },
  {
   "cell_type": "code",
   "execution_count": 123,
   "id": "41d70fdf",
   "metadata": {},
   "outputs": [
    {
     "data": {
      "text/plain": [
       "'dice.html'"
      ]
     },
     "execution_count": 123,
     "metadata": {},
     "output_type": "execute_result"
    }
   ],
   "source": [
    "x_axis_config = {'title': 'Result'}\n",
    "y_axis_config = {'title': 'Frequency of Result'}\n",
    "Lay = Layout(title = \"='Results of rolling one Die 100 times\",\n",
    "             xaxis=x_axis_config, yaxis=y_axis_config)\n",
    "offline.plot({'data': data, 'layout': Lay}, filename='dice.html')"
   ]
  },
  {
   "cell_type": "markdown",
   "id": "4cfc6909",
   "metadata": {},
   "source": [
    "## Visualizing using matplotlib"
   ]
  },
  {
   "cell_type": "code",
   "execution_count": 124,
   "id": "51f3089f",
   "metadata": {},
   "outputs": [
    {
     "data": {
      "text/plain": [
       "(array([20.,  0., 18.,  0., 19.,  0., 13.,  0., 20., 10.]),\n",
       " array([1. , 1.5, 2. , 2.5, 3. , 3.5, 4. , 4.5, 5. , 5.5, 6. ]),\n",
       " <a list of 10 Patch objects>)"
      ]
     },
     "execution_count": 124,
     "metadata": {},
     "output_type": "execute_result"
    },
    {
     "data": {
      "image/png": "[encoded data removed]",
      "text/plain": [
       "<Figure size 432x288 with 1 Axes>"
      ]
     },
     "metadata": {
      "needs_background": "light"
     },
     "output_type": "display_data"
    }
   ],
   "source": [
    "plt.hist(results)\n"
   ]
  },
  {
   "cell_type": "markdown",
   "id": "9472ec6a",
   "metadata": {},
   "source": [
    "## rolling multiple dice"
   ]
  },
  {
   "cell_type": "code",
   "execution_count": 125,
   "id": "c70f59a7",
   "metadata": {},
   "outputs": [],
   "source": [
    "die_1 = die(num_roll=1000)\n",
    "die_2 = die(num_roll=1000)\n",
    "die1_list = die_1.roll()\n",
    "die2_list = die_2.roll()\n",
    "\n",
    "result = [die1_list[i] + die2_list[i] for i in range(len(die1_list))]"
   ]
  },
  {
   "cell_type": "code",
   "execution_count": 126,
   "id": "1a938068",
   "metadata": {},
   "outputs": [
    {
     "data": {
      "text/plain": [
       "[23, 62, 79, 98, 149, 168, 126, 131, 79, 62, 23]"
      ]
     },
     "execution_count": 126,
     "metadata": {},
     "output_type": "execute_result"
    }
   ],
   "source": [
    "max_result = die_1.num_sides + die_2.num_sides\n",
    "freq = []\n",
    "for value in range(2, max_result+1):\n",
    "    frequency = result.count(value)\n",
    "    freq.append(frequency)\n",
    "freq"
   ]
  },
  {
   "cell_type": "markdown",
   "id": "79708993",
   "metadata": {},
   "source": [
    "## Visualize"
   ]
  },
  {
   "cell_type": "code",
   "execution_count": 127,
   "id": "d539fc89",
   "metadata": {},
   "outputs": [
    {
     "data": {
      "text/plain": [
       "'Two_dice.html'"
      ]
     },
     "execution_count": 127,
     "metadata": {},
     "output_type": "execute_result"
    }
   ],
   "source": [
    "x_values = list(range(2, max_result+1))\n",
    "data = [Bar(x=x_values, y=freq)]\n",
    "\n",
    "x_axis_config = {'title': 'Result'}\n",
    "y_axis_config = {'title': 'Frequency of Result'}\n",
    "Lay = Layout(title = \"='Results of rolling two Dice 1000 times\",\n",
    "             xaxis=x_axis_config, yaxis=y_axis_config)\n",
    "offline.plot({'data': data, 'layout': Lay}, filename='Two_dice.html')"
   ]
  },
  {
   "cell_type": "code",
   "execution_count": 128,
   "id": "8e68b9c3",
   "metadata": {},
   "outputs": [
    {
     "data": {
      "text/plain": [
       "(array([ 23.,  62.,  79.,  98., 149., 168., 126., 131.,  79.,  85.]),\n",
       " array([ 2.,  3.,  4.,  5.,  6.,  7.,  8.,  9., 10., 11., 12.]),\n",
       " <a list of 10 Patch objects>)"
      ]
     },
     "execution_count": 128,
     "metadata": {},
     "output_type": "execute_result"
    },
    {
     "data": {
      "image/png": "[encoded data removed]",
      "text/plain": [
       "<Figure size 432x288 with 1 Axes>"
      ]
     },
     "metadata": {
      "needs_background": "light"
     },
     "output_type": "display_data"
    }
   ],
   "source": [
    "plt.hist(result, align='mid')"
   ]
  },
  {
   "cell_type": "code",
   "execution_count": null,
   "id": "b99a5453",
   "metadata": {},
   "outputs": [],
   "source": []
  },
  {
   "cell_type": "code",
   "execution_count": null,
   "id": "ef357ad0",
   "metadata": {},
   "outputs": [],
   "source": []
  }
 ],
 "metadata": {
  "kernelspec": {
   "display_name": "Python 3",
   "language": "python",
   "name": "python3"
  },
  "language_info": {
   "codemirror_mode": {
    "name": "ipython",
    "version": 3
   },
   "file_extension": ".py",
   "mimetype": "text/x-python",
   "name": "python",
   "nbconvert_exporter": "python",
   "pygments_lexer": "ipython3",
   "version": "3.7.7"
  }
 },
 "nbformat": 4,
 "nbformat_minor": 5
}
